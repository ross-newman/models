{
 "cells": [
  {
   "cell_type": "markdown",
   "id": "7a2c0ec7",
   "metadata": {},
   "source": [
    "# Generate synthetic data for training\n",
    "\n",
    "Use fal.ai to generate synthetic data. First create new python environment"
   ]
  },
  {
   "cell_type": "code",
   "execution_count": null,
   "id": "37ee806e",
   "metadata": {},
   "outputs": [],
   "source": [
    "!python -m venv ~/training"
   ]
  },
  {
   "cell_type": "code",
   "execution_count": null,
   "id": "77c3198b",
   "metadata": {},
   "outputs": [
    {
     "ename": "",
     "evalue": "",
     "output_type": "error",
     "traceback": [
      "\u001b[1;31mRunning cells with 'Python 3.12.3' requires the ipykernel package.\n",
      "\u001b[1;31mInstall 'ipykernel' into the Python environment. \n",
      "\u001b[1;31mCommand: '/bin/python3 -m pip install ipykernel -U --user --force-reinstall'"
     ]
    },
    {
     "ename": "",
     "evalue": "",
     "output_type": "error",
     "traceback": [
      "\u001b[1;31mRunning cells with 'Python 3.12.3' requires the ipykernel package.\n",
      "\u001b[1;31mInstall 'ipykernel' into the Python environment. \n",
      "\u001b[1;31mCommand: '/bin/python3 -m pip install ipykernel -U --user --force-reinstall'"
     ]
    }
   ],
   "source": [
    "python3 --version\n"
   ]
  },
  {
   "cell_type": "markdown",
   "id": "83410b6a",
   "metadata": {},
   "source": [
    "!ls"
   ]
  }
 ],
 "metadata": {
  "kernelspec": {
   "display_name": "Python 3",
   "language": "python",
   "name": "python3"
  },
  "language_info": {
   "name": "python",
   "version": "3.12.3"
  }
 },
 "nbformat": 4,
 "nbformat_minor": 5
}
