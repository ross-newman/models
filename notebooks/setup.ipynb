{
 "cells": [
  {
   "cell_type": "markdown",
   "id": "54595c3d",
   "metadata": {},
   "source": [
    "![Astute Notebooks](../images/notebooks-banner.png)\n",
    "\n",
    "# Setup a system for training\n",
    "---\n"
   ]
  },
  {
   "cell_type": "code",
   "execution_count": 1,
   "id": "82ee228f",
   "metadata": {
    "vscode": {
     "languageId": "plaintext"
    }
   },
   "outputs": [
    {
     "name": "stdout",
     "output_type": "stream",
     "text": [
      "Collecting google\n",
      "  Using cached google-3.0.0-py2.py3-none-any.whl.metadata (627 bytes)\n",
      "Requirement already satisfied: beautifulsoup4 in /home/newman/training/lib/python3.12/site-packages (from google) (4.13.4)\n",
      "Requirement already satisfied: soupsieve>1.2 in /home/newman/training/lib/python3.12/site-packages (from beautifulsoup4->google) (2.7)\n",
      "Requirement already satisfied: typing-extensions>=4.0.0 in /home/newman/training/lib/python3.12/site-packages (from beautifulsoup4->google) (4.14.1)\n",
      "Using cached google-3.0.0-py2.py3-none-any.whl (45 kB)\n",
      "Installing collected packages: google\n",
      "Successfully installed google-3.0.0\n",
      "Note: you may need to restart the kernel to use updated packages.\n"
     ]
    }
   ],
   "source": [
    "pip install google"
   ]
  },
  {
   "cell_type": "code",
   "execution_count": null,
   "id": "73e91c7a-875b-493c-a549-51baa34183cd",
   "metadata": {},
   "outputs": [],
   "source": []
  }
 ],
 "metadata": {
  "kernelspec": {
   "display_name": "Python 3 (ipykernel)",
   "language": "python",
   "name": "python3"
  },
  "language_info": {
   "codemirror_mode": {
    "name": "ipython",
    "version": 3
   },
   "file_extension": ".py",
   "mimetype": "text/x-python",
   "name": "python",
   "nbconvert_exporter": "python",
   "pygments_lexer": "ipython3",
   "version": "3.12.3"
  }
 },
 "nbformat": 4,
 "nbformat_minor": 5
}
